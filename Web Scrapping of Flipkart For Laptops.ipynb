{
 "cells": [
  {
   "cell_type": "code",
   "execution_count": 1,
   "metadata": {},
   "outputs": [],
   "source": [
    "#import libraries\n",
    "import urllib.request\n",
    "from bs4 import BeautifulSoup\n",
    "from urllib.request import urlopen"
   ]
  },
  {
   "cell_type": "code",
   "execution_count": 2,
   "metadata": {},
   "outputs": [],
   "source": [
    "#list the website we need to scrape on it\n",
    "url = \"https://www.flipkart.com/search?q=best%20laptops%20under%2080000&otracker=search&otracker1=search&marketplace=FLIPKART&as-show=on&as=off\"\n",
    "page = urlopen(url)\n",
    "page_html = page.read()\n",
    "page.close()\n",
    "page_soup = BeautifulSoup(page_html, \"html.parser\")"
   ]
  },
  {
   "cell_type": "code",
   "execution_count": 3,
   "metadata": {},
   "outputs": [
    {
     "name": "stdout",
     "output_type": "stream",
     "text": [
      "40\n"
     ]
    }
   ],
   "source": [
    "#get the total number of containers that found \n",
    "containers = page_soup.findAll(\"div\", { \"class\": \"_2kHMtA\"})\n",
    "print(len(containers))"
   ]
  },
  {
   "cell_type": "code",
   "execution_count": 4,
   "metadata": {},
   "outputs": [
    {
     "name": "stdout",
     "output_type": "stream",
     "text": [
      "<div class=\"_2kHMtA\">\n",
      " <div class=\"_2tfzpE\">\n",
      "  <span>\n",
      "   Ad\n",
      "  </span>\n",
      " </div>\n",
      " <a class=\"_1fQZEK\" href=\"/hp-chromebook-mediatek-kompanio-500-4-gb-64-gb-emmc-storage-chrome-os-11a-na0002mu/p/itm92093a75fc716?pid=COMGYJYYA7FFRXZC&amp;lid=LSTCOMGYJYYA7FFRXZCPGLPBY&amp;marketplace=FLIPKART&amp;q=best+laptops+under+80000&amp;store=search.flipkart.com&amp;srno=s_1_4&amp;otracker=search&amp;otracker1=search&amp;fm=organic&amp;iid=en_n6cxE%2FDWmbhJLTfzgSl1HEb5Cqr0pciw0AbbgYw4HzT77f%2FIPImbMl90rthU57uL%2BZa8r7fwDIL3dMgkbSr4iA%3D%3D&amp;ppt=None&amp;ppn=None&amp;ssid=xcl02zojs00000001638735046707&amp;qH=cdff68aec3053e4d\" rel=\"noopener noreferrer\" target=\"_blank\">\n",
      "  <div class=\"MIXNux\">\n",
      "   <div class=\"_2QcLo-\">\n",
      "    <div>\n",
      "     <div class=\"CXW8mj\" style=\"height:200px;width:200px\">\n",
      "      <img alt=\"HP Chromebook MediaTek Kompanio 500 - (4 GB/64 GB EMMC Storage/Chrome OS) 11A-NA0002MU Chromebook\" class=\"_396cs4 _3exPp9\" src=\"https://rukminim1.flixcart.com/image/312/312/kn3i1zk0/computer/0/c/h/na-chromebook-hp-original-imagfusg6egrsfpr.jpeg?q=70\"/>\n",
      "     </div>\n",
      "    </div>\n",
      "   </div>\n",
      "   <div class=\"_3wLduG\">\n",
      "    <div class=\"_3PzNI-\">\n",
      "     <span class=\"f3A4_V\">\n",
      "      <label class=\"_2iDkf8\">\n",
      "       <input class=\"_30VH1S\" readonly=\"\" type=\"checkbox\"/>\n",
      "       <div class=\"_24_Dny\">\n",
      "       </div>\n",
      "      </label>\n",
      "     </span>\n",
      "     <label class=\"_6Up2sF\">\n",
      "      <span>\n",
      "       Add to Compare\n",
      "      </span>\n",
      "     </label>\n",
      "    </div>\n",
      "   </div>\n",
      "   <div class=\"_2hVSre _3nq8ih\">\n",
      "    <div class=\"_36FSn5\">\n",
      "     <svg class=\"_1l0elc\" height=\"16\" viewbox=\"0 0 20 16\" width=\"16\" xmlns=\"http://www.w3.org/2000/svg\">\n",
      "      <path class=\"eX72wL\" d=\"M8.695 16.682C4.06 12.382 1 9.536 1 6.065 1 3.219 3.178 1 5.95 1c1.566 0 3.069.746 4.05 1.915C10.981 1.745 12.484 1 14.05 1 16.822 1 19 3.22 19 6.065c0 3.471-3.06 6.316-7.695 10.617L10 17.897l-1.305-1.215z\" fill=\"#2874F0\" fill-rule=\"evenodd\" opacity=\".9\" stroke=\"#FFF\">\n",
      "      </path>\n",
      "     </svg>\n",
      "    </div>\n",
      "   </div>\n",
      "  </div>\n",
      "  <div class=\"_3pLy-c row\">\n",
      "   <div class=\"col col-7-12\">\n",
      "    <div class=\"_4rR01T\">\n",
      "     HP Chromebook MediaTek Kompanio 500 - (4 GB/64 GB EMMC Storage/Chrome OS) 11A-NA0002MU Chromebook\n",
      "    </div>\n",
      "    <div class=\"gUuXy-\">\n",
      "     <span class=\"_1lRcqv\" id=\"productRating_LSTCOMGYJYYA7FFRXZCPGLPBY_COMGYJYYA7FFRXZC_\">\n",
      "      <div class=\"_3LWZlK\">\n",
      "       3.8\n",
      "       <img class=\"_1wB99o\" src=\"data:image/svg+xml;base64,PHN2ZyB4bWxucz0iaHR0cDovL3d3dy53My5vcmcvMjAwMC9zdmciIHdpZHRoPSIxMyIgaGVpZ2h0PSIxMiI+PHBhdGggZmlsbD0iI0ZGRiIgZD0iTTYuNSA5LjQzOWwtMy42NzQgMi4yMy45NC00LjI2LTMuMjEtMi44ODMgNC4yNTQtLjQwNEw2LjUuMTEybDEuNjkgNC4wMSA0LjI1NC40MDQtMy4yMSAyLjg4Mi45NCA0LjI2eiIvPjwvc3ZnPg==\"/>\n",
      "      </div>\n",
      "     </span>\n",
      "     <span class=\"_2_R_DZ\">\n",
      "      <span>\n",
      "       <span>\n",
      "        3,567 Ratings\n",
      "       </span>\n",
      "       <span class=\"_13vcmD\">\n",
      "        &amp;\n",
      "       </span>\n",
      "       <span>\n",
      "        450 Reviews\n",
      "       </span>\n",
      "      </span>\n",
      "     </span>\n",
      "    </div>\n",
      "    <div class=\"fMghEO\">\n",
      "     <ul class=\"_1xgFaf\">\n",
      "      <li class=\"rgWa7D\">\n",
      "       MediaTek MediaTek Kompanio 500 Processor\n",
      "      </li>\n",
      "      <li class=\"rgWa7D\">\n",
      "       4 GB DDR4 RAM\n",
      "      </li>\n",
      "      <li class=\"rgWa7D\">\n",
      "       32 bit Chrome Operating System\n",
      "      </li>\n",
      "      <li class=\"rgWa7D\">\n",
      "       29.46 cm (11.6 inch) Touchscreen Display\n",
      "      </li>\n",
      "      <li class=\"rgWa7D\">\n",
      "       Pre-installed G-suite Apps, Linux Kernel and Apps, Chrome Web Extensions, Google Play Store, HP Audio Switch, HP ePrint, HP Support Assistant, Dropbox\n",
      "      </li>\n",
      "      <li class=\"rgWa7D\">\n",
      "       1 Year Onsite Warranty\n",
      "      </li>\n",
      "     </ul>\n",
      "    </div>\n",
      "   </div>\n",
      "   <div class=\"col col-5-12 nlI3QM\">\n",
      "    <div class=\"_3tbKJL\">\n",
      "     <div class=\"_25b18c\">\n",
      "      <div class=\"_30jeq3 _1_WHN1\">\n",
      "       ₹22,490\n",
      "      </div>\n",
      "      <div class=\"_3I9_wc _27UcVY\">\n",
      "       ₹\n",
      "       <!-- -->\n",
      "       24,845\n",
      "      </div>\n",
      "      <div class=\"_3Ay6Sb\">\n",
      "       <span>\n",
      "        9% off\n",
      "       </span>\n",
      "      </div>\n",
      "     </div>\n",
      "     <div class=\"_3tcB5a p8ucoS\">\n",
      "      <div>\n",
      "       <div class=\"_2Tpdn3\" style=\"color:#000000;font-size:12px;font-style:normal;font-weight:400\">\n",
      "        Free delivery\n",
      "       </div>\n",
      "      </div>\n",
      "     </div>\n",
      "    </div>\n",
      "    <div class=\"_13J9qT\">\n",
      "     <img height=\"21\" src=\"//static-assets-web.flixcart.com/www/linchpin/fk-cp-zion/img/fa_62673a.png\"/>\n",
      "    </div>\n",
      "   </div>\n",
      "  </div>\n",
      " </a>\n",
      "</div>\n"
     ]
    }
   ],
   "source": [
    "print(BeautifulSoup.prettify(containers[3]))\n"
   ]
  },
  {
   "cell_type": "code",
   "execution_count": 5,
   "metadata": {},
   "outputs": [
    {
     "name": "stdout",
     "output_type": "stream",
     "text": [
      "DELL Inspiron Core i5 11th Gen - (8 GB/512 GB SSD/Windows 10/2 GB Graphics) Inspiron 5410 2 in 1 Lapto...\n"
     ]
    }
   ],
   "source": [
    "#get specific element and its details \n",
    "container = containers[4]\n",
    "prod_name = container.div.img[\"alt\"]\n",
    "print(prod_name)"
   ]
  },
  {
   "cell_type": "code",
   "execution_count": 6,
   "metadata": {},
   "outputs": [
    {
     "name": "stdout",
     "output_type": "stream",
     "text": [
      "₹1,03,275\n"
     ]
    }
   ],
   "source": [
    "original_price = container.findAll(\"div\", {\"class\": \"_3I9_wc _27UcVY\"})\n",
    "print(original_price[0].text)"
   ]
  },
  {
   "cell_type": "code",
   "execution_count": 7,
   "metadata": {},
   "outputs": [
    {
     "name": "stdout",
     "output_type": "stream",
     "text": [
      "24% off\n"
     ]
    }
   ],
   "source": [
    "discount_percent = container.findAll(\"div\", {\"class\": \"_3Ay6Sb\"})\n",
    "print(discount_percent[0].text)"
   ]
  },
  {
   "cell_type": "code",
   "execution_count": 8,
   "metadata": {},
   "outputs": [
    {
     "name": "stdout",
     "output_type": "stream",
     "text": [
      "₹78,300\n"
     ]
    }
   ],
   "source": [
    "discounted_price = container.findAll(\"div\", {\"class\": \"_30jeq3 _1_WHN1\"})\n",
    "print(discounted_price[0].text)"
   ]
  },
  {
   "cell_type": "code",
   "execution_count": 9,
   "metadata": {},
   "outputs": [
    {
     "name": "stdout",
     "output_type": "stream",
     "text": [
      "5\n"
     ]
    }
   ],
   "source": [
    "prod_ratings = container.findAll(\"span\", {\"class\": \"_1lRcqv\"})\n",
    "print(prod_ratings[0].text)"
   ]
  },
  {
   "cell_type": "code",
   "execution_count": 10,
   "metadata": {},
   "outputs": [
    {
     "name": "stdout",
     "output_type": "stream",
     "text": [
      "9 Ratings & 1 Reviews\n"
     ]
    }
   ],
   "source": [
    "reviews = container.findAll(\"span\", {\"class\" : \"_2_R_DZ\"})\n",
    "print(reviews[0].text)"
   ]
  },
  {
   "cell_type": "code",
   "execution_count": 11,
   "metadata": {},
   "outputs": [
    {
     "name": "stdout",
     "output_type": "stream",
     "text": [
      "\u001b[1mProduct Name: \n",
      "\u001b[0mMSI GF63 Thin Core i7 10th Gen - (16 GB/512 GB SSD/Windows 10 Home/4 GB Graphics/NVIDIA GeForce RTX 30... \n",
      "\n",
      "\u001b[1mOriginal Price: \n",
      "\u001b[0m₹95,990 \n",
      "\n",
      "\u001b[1mDiscount Percentage: \n",
      "\u001b[0m19% off \n",
      "\n",
      "\u001b[1mDiscounted Price: \n",
      "\u001b[0m₹76,990 \n",
      "\n",
      "\u001b[1mRatings: \n",
      "\u001b[0m4.6 \n",
      "\n",
      "\u001b[1mNumber of Reviews: \n",
      "\u001b[0m280 Ratings & 32 Reviews \n",
      "\n",
      "------------------------------------------------------------------------------------------------------------------\n",
      "\u001b[1mProduct Name: \n",
      "\u001b[0mDELL G15 Ryzen 5 Hexa Core 5600H - (16 GB/512 GB SSD/Windows 10/4 GB Graphics/NVIDIA GeForce RTX 3050)... \n",
      "\n",
      "\u001b[1mOriginal Price: \n",
      "\u001b[0m₹1,03,250 \n",
      "\n",
      "\u001b[1mDiscount Percentage: \n",
      "\u001b[0m24% off \n",
      "\n",
      "\u001b[1mDiscounted Price: \n",
      "\u001b[0m₹77,990 \n",
      "\n",
      "\u001b[1mRatings: \n",
      "\u001b[0m4.4 \n",
      "\n",
      "\u001b[1mNumber of Reviews: \n",
      "\u001b[0m22 Ratings & 4 Reviews \n",
      "\n",
      "------------------------------------------------------------------------------------------------------------------\n",
      "\u001b[1mProduct Name: \n",
      "\u001b[0mHP Pavilion Gaming Ryzen 7 Octa Core 4800H - (16 GB/1 TB HDD/256 GB SSD/Windows 10 Home/4 GB Graphics/... \n",
      "\n",
      "\u001b[1mOriginal Price: \n",
      "\u001b[0m₹93,564 \n",
      "\n",
      "\u001b[1mDiscount Percentage: \n",
      "\u001b[0m18% off \n",
      "\n",
      "\u001b[1mDiscounted Price: \n",
      "\u001b[0m₹75,990 \n",
      "\n",
      "\u001b[1mRatings: \n",
      "\u001b[0m4.5 \n",
      "\n",
      "\u001b[1mNumber of Reviews: \n",
      "\u001b[0m582 Ratings & 73 Reviews \n",
      "\n",
      "------------------------------------------------------------------------------------------------------------------\n",
      "\u001b[1mProduct Name: \n",
      "\u001b[0mHP Chromebook MediaTek Kompanio 500 - (4 GB/64 GB EMMC Storage/Chrome OS) 11A-NA0002MU Chromebook \n",
      "\n",
      "\u001b[1mOriginal Price: \n",
      "\u001b[0m₹24,845 \n",
      "\n",
      "\u001b[1mDiscount Percentage: \n",
      "\u001b[0m9% off \n",
      "\n",
      "\u001b[1mDiscounted Price: \n",
      "\u001b[0m₹22,490 \n",
      "\n",
      "\u001b[1mRatings: \n",
      "\u001b[0m3.8 \n",
      "\n",
      "\u001b[1mNumber of Reviews: \n",
      "\u001b[0m3,567 Ratings & 450 Reviews \n",
      "\n",
      "------------------------------------------------------------------------------------------------------------------\n",
      "\u001b[1mProduct Name: \n",
      "\u001b[0mDELL Inspiron Core i5 11th Gen - (8 GB/512 GB SSD/Windows 10/2 GB Graphics) Inspiron 5410 2 in 1 Lapto... \n",
      "\n",
      "\u001b[1mOriginal Price: \n",
      "\u001b[0m₹1,03,275 \n",
      "\n",
      "\u001b[1mDiscount Percentage: \n",
      "\u001b[0m24% off \n",
      "\n",
      "\u001b[1mDiscounted Price: \n",
      "\u001b[0m₹78,300 \n",
      "\n",
      "\u001b[1mRatings: \n",
      "\u001b[0m5 \n",
      "\n",
      "\u001b[1mNumber of Reviews: \n",
      "\u001b[0m9 Ratings & 1 Reviews \n",
      "\n",
      "------------------------------------------------------------------------------------------------------------------\n"
     ]
    }
   ],
   "source": [
    "for container in containers[:5]:\n",
    "    product_name = container.findAll(\"div\", {\"class\": \"_4rR01T\"})    \n",
    "    prod_name = product_name[0].text.strip()\n",
    "    \n",
    "    original_price = container.findAll(\"div\", {\"class\": \"_3I9_wc _27UcVY\"})\n",
    "    original = original_price[0].text.strip()\n",
    "    \n",
    "    discount_percent = container.findAll(\"div\", {\"class\": \"_3Ay6Sb\"})\n",
    "    percent = discount_percent[0].text.strip()\n",
    "    \n",
    "    discounted_price = container.findAll(\"div\", {\"class\": \"_30jeq3 _1_WHN1\"})\n",
    "    discount = discounted_price[0].text.strip()\n",
    "\n",
    "    rating_container = container.findAll(\"span\", {\"class\": \"_1lRcqv\"})\n",
    "    prod_rating = rating_container[0].text.strip()\n",
    "    \n",
    "    reviews_container = container.findAll(\"span\", {\"class\": \"_2_R_DZ\"})\n",
    "    reviews_rating = reviews_container[0].text\n",
    "    \n",
    "    print(\"\\033[1mProduct Name: \\n\"+ '\\033[0m'+ str(prod_name), \"\\n\"),\n",
    "    print(\"\\033[1mOriginal Price: \\n\"+ '\\033[0m'+ str(original), \"\\n\"),\n",
    "    print(\"\\033[1mDiscount Percentage: \\n\"+ '\\033[0m'+ str(percent), \"\\n\"),\n",
    "    print(\"\\033[1mDiscounted Price: \\n\"+ '\\033[0m'+ str(discount), \"\\n\"),\n",
    "    print(\"\\033[1mRatings: \\n\"+ '\\033[0m'+ prod_rating, \"\\n\"),\n",
    "    print(\"\\033[1mNumber of Reviews: \\n\"+ '\\033[0m'+ reviews_rating, \"\\n\"),\n",
    "    print(\"------------------------------------------------------------------------------------------------------------------\")"
   ]
  },
  {
   "cell_type": "code",
   "execution_count": null,
   "metadata": {},
   "outputs": [],
   "source": []
  }
 ],
 "metadata": {
  "kernelspec": {
   "display_name": "Python 3",
   "language": "python",
   "name": "python3"
  },
  "language_info": {
   "codemirror_mode": {
    "name": "ipython",
    "version": 3
   },
   "file_extension": ".py",
   "mimetype": "text/x-python",
   "name": "python",
   "nbconvert_exporter": "python",
   "pygments_lexer": "ipython3",
   "version": "3.8.5"
  }
 },
 "nbformat": 4,
 "nbformat_minor": 4
}
